{
 "cells": [
  {
   "cell_type": "markdown",
   "metadata": {},
   "source": [
    "# Cómo resuelve Sudoku una computadora más inteligente\n",
    "\n",
    "A fin de ilustrar cómo es que una computadora resuelve un sudoku, comenzaremos incorporando código adicional que nos va a permitir observar gráficamente dicho comportamiento."
   ]
  },
  {
   "cell_type": "code",
   "execution_count": 1,
   "metadata": {},
   "outputs": [],
   "source": [
    "import gui"
   ]
  },
  {
   "cell_type": "markdown",
   "metadata": {},
   "source": [
    "Adicionalmente, necesitamos contar con un ejemplo de sudoku para visualizar su resolución. En este caso, los espacios vacíos los representaremos usando el dígito `0` que no se usa en Sudoku. Los corchetes, las comas y lo demás es parte del lenguaje de programación y es irrelevante para los propósitos de este ejercicio."
   ]
  },
  {
   "cell_type": "code",
   "execution_count": 2,
   "metadata": {},
   "outputs": [],
   "source": [
    "sudoku = [\n",
    "    [0, 0, 1, 0, 5, 0, 6, 3, 0],\n",
    "    [3, 0, 0, 0, 7, 8, 0, 5, 0],\n",
    "    [0, 0, 5, 4, 6, 0, 7, 0, 0],\n",
    "    [2, 5, 0, 0, 0, 0, 0, 4, 7],\n",
    "    [0, 1, 0, 0, 0, 7, 0, 0, 0],\n",
    "    [7, 0, 6, 0, 0, 4, 0, 0, 0],\n",
    "    [1, 4, 2, 8, 0, 0, 5, 0, 0],\n",
    "    [6, 3, 7, 0, 4, 0, 8, 1, 0],\n",
    "    [0, 0, 8, 0, 1, 0, 0, 2, 0]\n",
    "]"
   ]
  },
  {
   "cell_type": "markdown",
   "metadata": {},
   "source": [
    "Procedemos entonces a crear un tablero de Sudoku con esa configuración y a presentarlo gráficamente."
   ]
  },
  {
   "cell_type": "code",
   "execution_count": 3,
   "metadata": {},
   "outputs": [],
   "source": [
    "board = gui.Board(sudoku)"
   ]
  },
  {
   "cell_type": "markdown",
   "metadata": {},
   "source": [
    "La estrategia de solución sigue siendo:\n",
    "1. Si el problema ya está resuelto, se confirman todos los dígitos y dice que ya acabó.\n",
    "2. Si no está resuelto, se busca un espacio vacío.\n",
    "3. Una vez que lo encuentra, se comieza a probar dígitos del 1 al 9 hasta que se encuentra uno que es válido.\n",
    "4. Si encuentra uno que es válido, lo pone temporalmente.\n",
    "5. Repite el proceso hasta resolver el problema.\n",
    "6. Si no encuentra uno válido, o no puede resolver el problema con ninguno de los dígitos válidos, entonces regresa al último dígito que puso y busca otra opción válida.\n",
    "Sin embargo, ahora se busca un *buen* espacio vacío, entendido como aquel que tiene el menor número de opciones posibles (preferentemente una sola, o ninguna, en cuyo caso hay que regresar a la opción anterior).\n",
    "Es importante señalar que aquí aplica un compromiso (*trade-off*) entre la búsqueda de un espacio vacío y una solución, y se espera que invertir más tiempo en la búsqueda de un buen espacio vacío reduzca consideramente el tiempo de la búsqueda de la solución."
   ]
  },
  {
   "cell_type": "code",
   "execution_count": 4,
   "metadata": {},
   "outputs": [],
   "source": [
    "def solver(board):\n",
    "    solved = board.is_finished()\n",
    "    if solved: # Paso 1\n",
    "        board.confirm_all()\n",
    "        return solved\n",
    "    else:\n",
    "        i, j = board.find_good_empty() # Paso 2\n",
    "        board.select(i,j)\n",
    "        for digit in [1,2,3,4,5,6,7,8,9]: # Paso 3\n",
    "            if board.is_valid(digit): # Paso 4\n",
    "                board.sketch(digit)\n",
    "                solved = solver(board) # Paso 5\n",
    "                if solved:\n",
    "                    return solved\n",
    "                else:\n",
    "                    board.select(i,j)\n",
    "                    board.clear()\n",
    "        return False # Paso 6"
   ]
  },
  {
   "cell_type": "markdown",
   "metadata": {},
   "source": [
    "Lo que queda entonces por hacer es ejecutar la estrategia sobre el tablero y ver sí la resuelve y cómo luce la estrategia sobre el tablero. Para ello, necesitamos primero presentar el tablero."
   ]
  },
  {
   "cell_type": "code",
   "execution_count": 5,
   "metadata": {},
   "outputs": [
    {
     "data": {
      "application/vnd.jupyter.widget-view+json": {
       "model_id": "91500fd3b0734bf993b13b39a02e7b3e",
       "version_major": 2,
       "version_minor": 0
      },
      "text/plain": [
       "Canvas(height=596, layout=Layout(height='auto', width='50%'), width=540)"
      ]
     },
     "metadata": {},
     "output_type": "display_data"
    }
   ],
   "source": [
    "board.redraw_window()\n",
    "board.canvas"
   ]
  },
  {
   "cell_type": "markdown",
   "metadata": {},
   "source": [
    "Ejecutamos la estrategia llamando a la función `solver` con el tablero como argumento. El resultado será verdadero (`True`) si pudo resolverlo, y falso (`False`) si no. En el caso de que realmente resuelva el sudoku, entonces queremos saber cuántas acciones realizó, tanto de poner números como de borrarlos."
   ]
  },
  {
   "cell_type": "code",
   "execution_count": 6,
   "metadata": {},
   "outputs": [
    {
     "name": "stdout",
     "output_type": "stream",
     "text": [
      "Lo hice en 46 pasos\n"
     ]
    }
   ],
   "source": [
    "solved = solver(board)\n",
    "if solved:\n",
    "    steps = board.steps()\n",
    "    print(f'Lo hice en {steps} pasos')"
   ]
  },
  {
   "cell_type": "markdown",
   "metadata": {},
   "source": [
    "El tiempo que se tardó lo puedes ver en la ventana del tablero, abajo a la derecha.\n",
    "\n",
    "¡Listo!"
   ]
  }
 ],
 "metadata": {
  "kernelspec": {
   "display_name": "Python 3",
   "language": "python",
   "name": "python3"
  },
  "language_info": {
   "codemirror_mode": {
    "name": "ipython",
    "version": 3
   },
   "file_extension": ".py",
   "mimetype": "text/x-python",
   "name": "python",
   "nbconvert_exporter": "python",
   "pygments_lexer": "ipython3",
   "version": "3.8.5"
  }
 },
 "nbformat": 4,
 "nbformat_minor": 4
}
